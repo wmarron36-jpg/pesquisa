{
 "cells": [
  {
   "cell_type": "code",
   "execution_count": null,
   "metadata": {},
   "outputs": [],
   "source": [
    "import pandas as pd\n",
    "import requests\n",
    "from io import StringIO\n",
    "\n",
    "# URL para o arquivo CSV \"raw\" no seu GitHub\n",
    "# IMPORTANTE: Substitua 'SEU-USUARIO' e 'SEU-REPOSITORIO' pelos seus dados\n",
    "url_csv = 'https://raw.githubusercontent.com/SEU-USUARIO/SEU-REPOSITORIO/main/Itens%20Klasmatt%20atualizado%2001.09.xlsx%20-%20Lista.csv'\n",
    "\n",
    "def pesquisar_materiais(url):\n",
    "    \"\"\"\n",
    "    Esta função baixa o CSV do GitHub e pesquisa materiais com base na palavra-chave do usuário.\n",
    "    \"\"\"\n",
    "    try:\n",
    "        # Baixa o conteúdo do arquivo CSV\n",
    "        print(f\"Baixando dados de: {url[:50]}...\")\n",
    "        resposta = requests.get(url)\n",
    "        resposta.raise_for_status() # Lança um erro se a requisição falhar\n",
    "        print(\"Download concluído. Processando...\")\n",
    "        \n",
    "        # Usa StringIO para ler o conteúdo de texto como se fosse um arquivo\n",
    "        dados_csv = StringIO(resposta.text)\n",
    "        df = pd.read_csv(dados_csv)\n",
    "\n",
    "        palavra_chave = input(\"Digite o material que deseja pesquisar: \").lower()\n",
    "\n",
    "        # Filtra as linhas que contêm a palavra-chave em qualquer uma das colunas de descrição\n",
    "        colunas_busca = ['SIN_Descricao', 'ITEM_Descricao_Completa', 'ITEM_Descricao_Longa', 'ITEM_Descricao_Curta']\n",
    "        resultados = df[df.apply(lambda row: any(palavra_chave in str(cell).lower() for cell in row[colunas_busca]), axis=1)]\n",
    "\n",
    "        if not resultados.empty:\n",
    "            print(\"\\n--- Resultados Encontrados ---\")\n",
    "            for index, row in resultados.iterrows():\n",
    "                print(f\"Código Padrão: {row['Padrao']}\")\n",
    "                print(f\"Descrição Curta: {row['ITEM_Descricao_Curta']}\")\n",
    "                print(\"-\" * 30)\n",
    "        else:\n",
    "            print(\"\\nNenhum material encontrado com a palavra-chave fornecida.\")\n",
    "\n",
    "    except requests.exceptions.RequestException as e:\n",
    "        print(f\"Erro ao baixar o arquivo: {e}\")\n",
    "        print(\"Por favor, verifique se a URL e o nome do repositório/usuário estão corretos.\")\n",
    "    except Exception as e:\n",
    "        print(f\"Ocorreu um erro inesperado: {e}\")\n",
    "\n",
    "# Chama a função para iniciar a pesquisa\n",
    "pesquisar_materiais(url_csv)"
   ]
  }
 ],
 "metadata": {
  "kernelspec": {
   "display_name": "Python 3",
   "language": "python",
   "name": "python3"
  },
  "language_info": {
   "codemirror_mode": {
    "name": "ipython",
    "version": 3
   },
   "file_extension": ".py",
   "mimetype": "text/x-python",
   "name": "python",
   "nbconvert_exporter": "python",
   "pygments_lexer": "ipython3",
   "version": "3.10.6"
  }
 },
 "nbformat": 4,
 "nbformat_minor": 4
}
